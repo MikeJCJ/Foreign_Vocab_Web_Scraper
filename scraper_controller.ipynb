{
 "cells": [
  {
   "cell_type": "code",
   "execution_count": null,
   "metadata": {},
   "outputs": [],
   "source": [
    "from webScraper import *"
   ]
  },
  {
   "cell_type": "markdown",
   "metadata": {},
   "source": [
    "<font size=\"5\">\n",
    "    Step 1: Scrape Latest Articles\n",
    "</font>"
   ]
  },
  {
   "cell_type": "code",
   "execution_count": null,
   "metadata": {},
   "outputs": [],
   "source": [
    "# Scrape latest articles from https://nos.nl\n",
    "# Outputs latest articles in 'articles_scrapped.json'\n",
    "webDataScrape()"
   ]
  },
  {
   "cell_type": "markdown",
   "metadata": {},
   "source": [
    "<font size=\"5\">\n",
    "    Step 2: Add to Master Article List\n",
    "</font>"
   ]
  },
  {
   "cell_type": "code",
   "execution_count": null,
   "metadata": {},
   "outputs": [],
   "source": [
    "# Updates master_article_list.json, using articles_scrapped.json as input\n",
    "updateMasterList()"
   ]
  },
  {
   "cell_type": "code",
   "execution_count": null,
   "metadata": {},
   "outputs": [],
   "source": [
    "# Check length of master article list\n",
    "master_article_list = []\n",
    "with open('master_article_list.json') as json_file:\n",
    "    master_article_data = json.load(json_file)\n",
    "    for article in master_article_data:\n",
    "        master_article_list.append(Article(article['ID'], article['url'], article['title'], article['date_time'], article['text']))\n",
    "print(len(master_article_list))"
   ]
  },
  {
   "cell_type": "markdown",
   "metadata": {},
   "source": [
    "<font size=\"5\">\n",
    "    Step 3: Convert text in Articles to list of words with frequency\n",
    "</font>"
   ]
  },
  {
   "cell_type": "code",
   "execution_count": null,
   "metadata": {},
   "outputs": [],
   "source": [
    "# Retrieve all articles from master list\n",
    "master_article_list = []\n",
    "with open('master_article_list.json') as json_file:\n",
    "    master_article_data = json.load(json_file)\n",
    "    for article in master_article_data:\n",
    "        master_article_list.append(Article(article['ID'], article['url'], article['title'], article['date_time'], article['text']))"
   ]
  },
  {
   "cell_type": "code",
   "execution_count": null,
   "metadata": {},
   "outputs": [],
   "source": [
    "# Retrieve list of words from each article\n",
    "full_word_list = []\n",
    "for article in master_article_list:\n",
    "    full_word_list.append(article.retrieveWordList())\n",
    "print(full_word_list)"
   ]
  }
 ],
 "metadata": {
  "kernelspec": {
   "display_name": "Python 3",
   "language": "python",
   "name": "python3"
  },
  "language_info": {
   "codemirror_mode": {
    "name": "ipython",
    "version": 3
   },
   "file_extension": ".py",
   "mimetype": "text/x-python",
   "name": "python",
   "nbconvert_exporter": "python",
   "pygments_lexer": "ipython3",
   "version": "3.11.9"
  }
 },
 "nbformat": 4,
 "nbformat_minor": 2
}

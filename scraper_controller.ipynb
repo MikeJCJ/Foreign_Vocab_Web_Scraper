{
 "cells": [
  {
   "cell_type": "code",
   "execution_count": 1,
   "metadata": {},
   "outputs": [],
   "source": [
    "from webScraper import *"
   ]
  },
  {
   "cell_type": "markdown",
   "metadata": {},
   "source": [
    "<font size=\"5\">\n",
    "    Step 1: Scrape Latest Articles\n",
    "</font>"
   ]
  },
  {
   "cell_type": "code",
   "execution_count": 2,
   "metadata": {},
   "outputs": [
    {
     "data": {
      "text/plain": [
       "[{'ID': 2517182,\n",
       "  'url': 'https://nos.nl/artikel/2517182-orban-ik-wacht-tot-er-in-nederland-een-nieuwe-premier-is',\n",
       "  'title': \"Orbán: 'Ik wacht tot er in Nederland een nieuwe premier is'\",\n",
       "  'date_time': '2024-04-17T21:10:31+0200',\n",
       "  'text': '\"Wat heeft Mark Rutte nog nodig om ook de Hongaarse steun voor zijn gedroomde top-baan als NAVO-baas binnen te slepen?\" Vrolijk lachend richt de Hongaarse premier Viktor Orbán zich tot de camera van de NOS als hij in het rumoer in een Brusselse conferentiezaal onze vraag opvangt. Orbán, die zojuist conservatieve aanhangers heeft toegesproken, heeft geen seconde nodig om na te denken. \"Ik wacht eerst tot er een nieuwe premier in Nederland is.\" Glunderend loopt hij verder, duidelijk in zijn nopjes met zijn ietwat pesterige antwoord. Op straat stapt hij met zijn medewerkers in de auto, op weg naar de Brusselse EU-Top. Daar wordt deze woensdag en donderdag in de wandelgangen Ruttes kandidatuur ook weer besproken. De meeste van de 32 NAVO-landen willen zo snel mogelijk Rutte aanwijzen als nieuwe NAVO-secretaris-generaal. Vier landen - Hongarije, Roemenië, Slowakije en Turkije - zijn nog niet om. Orbán is de grootste dwarsligger.  Er wordt tijd verspild, klinkt het in kringen rond het NAVO-hoofdkwartier in Brussel waar de irritatie over Orbáns positie toeneemt. Maar met \\'ik wacht nog tot er een nieuwe Nederlandse premier is\\' maakt Orbán duidelijk hij niet van plan is vaart te maken.  De officiële deadline voor de benoeming van een opvolger van de huidige NAVO-topman Jens Stoltenberg is pas eind oktober. Dat de Amerikaanse president Biden het liefst nog vóór de NAVO-top in Washington, begin juli, Ruttes benoeming rond wil hebben, maakt op Orbán geen indruk. De Hongaar is een goede politieke vriend van Donald Trump, en die wil niets liever dan Bidens \\'NAVO-feestje\\' in Washington bederven. Orbán helpt daarbij graag een handje, aldus waarnemers in Brussel.  Wat zeker ook meespeelt is de al jaren durende politieke vete tussen Rutte en Orbán. De twee botsten de laatste jaren meermaals in de EU, zeker als het ging om Ruttes felle kritiek op de rechtsstaat in Hongarije.  \"Hongarije kan de kandidatuur van Rutte niet steunen\", zei onlangs Orbáns minister van Buitenlandse Zaken Péter Szijjártó. We kunnen zeker geen man steunen als hoofd van de NAVO die eerder Hongarije op de knieën probeerde te krijgen. Na een eerdere EU-top, bijna drie jaar geleden, zei Rutte dat Hongarije vanwege zijn homofobe wetgeving \"niets meer in de EU te zoeken heeft\" als het op die voet doorging. \"Het langetermijndoel is om Hongarije op dit punt op de knieën te krijgen\", aldus Rutte toen.   Dat is Orbán niet vergeten. Een ander bezwaar dat Hongarije maakt is Ruttes uitgesproken steun voor intensivering van wapen- en munitieleveranties aan Oekraïne. Orbán, die vindt dat het Westen en de NAVO daarmee de oorlog blijven voeden, bepleit een heel andere strategie. Hij roept op tot onderhandelingen tussen Oekraïne en Rusland over een staakt het vuren. Al sinds de Russische invasie van Oekraïne laat Orbán geen Westerse wapenleveringen over Hongaars gebied naar Oekraïne toe.'},\n",
       " {'ID': 2517179,\n",
       "  'url': 'https://nos.nl/artikel/2517179-privacywaakhonden-meta-mag-gebruikers-niet-dwingen-zich-te-laten-volgen',\n",
       "  'title': \"Privacywaakhonden: 'Meta mag gebruikers niet dwingen zich te laten volgen'\",\n",
       "  'date_time': '2024-04-17T20:59:33+0200',\n",
       "  'text': 'Sociale mediaplatforms als Facebook en Instagram mogen hun gebruikers niet dwingen zich te laten volgen op internet, in ruil voor toegang tot de platforms. Dat zegt de Europese privacywaakhond EDPB, waar ook de Nederlandse Autoriteit Persoonsgegevens deel van uitmaakt. Volgens de toezichthouder moeten grote online platforms een gratis optie bieden waarbij je als gebruiker slechts \\'beperkt\\' gevolgd wordt. Daarbij zou je dan alleen advertenties zien die niet gebaseerd zijn op je internetgedrag. Deze zogeheten contextuele advertenties passen bij de inhoud die iemand op dat moment bekijkt. Bij een bericht over katten zou er dan een advertentie voor bijvoorbeeld kattenvoeding kunnen staan.  De uitspraak van de EDPB is een reactie op de keuze die Meta, het bedrijf achter Facebook en Instagram, zijn gebruikers sinds november vorig jaar voorlegt. Gebruikers kunnen sindsdien kiezen tussen een gratis ervaring met gepersonaliseerde advertenties, of een betaald abonnement waarbij persoonsgegevens niet worden gebruikt om gerichte advertenties aan te bieden. Dat abonnement kost zo\\'n 13 euro per maand. Zonder te kiezen kan er geen gebruik meer gemaakt worden van de diensten. Meta introduceerde deze keuze kort nadat de EDPB vorig jaar oordeelde dat de manier waarop het bedrijf gepersonaliseerde advertenties toonde in strijd was met Europese privacyregels. Het bedrijf moest van de toezichthouder binnen Europa stoppen met persoonlijke advertenties die gebaseerd zijn op het internetgedrag van gebruikers.  Nadat Meta de nieuwe opties invoerde, kondigde de Europese privacywaakhond een nieuw onderzoek aan. Vandaag noemt de EDPB de huidige opties voor gebruikers \"geen eerlijke keuze\". Volgens de toezichthouder worden gebruikers eigenlijk gedwongen te \\'betalen\\' met hun persoonsgegevens. Dat is vooral een probleem als de abonnementsprijs hoog is. Frederik Zuiderveen Borgesius, hoogleraar ICT en Recht aan de Radboud Universiteit, noemt het standpunt van de EDPB \"verstandig\". \"De toezichthouder mag de wet alleen uitleggen, maar geen nieuwe wetten bedenken. De wet zegt dat gepersonaliseerde advertenties alleen mogen met \\'geldige toestemming\\', die vrijwillig gegeven is. Maar als je moeilijk om een platform heen kunt, kun je je afvragen hoe vrijwillig die toestemming gegeven wordt.\" Een woordvoerder van Meta verwijst in een reactie naar een uitspraak van het Europese Hof van Justitie. \"Dat stelde dat het abonnementsmodel een rechtsgeldige manier voor bedrijven is om toestemming te vragen voor gepersonaliseerde advertenties. Het EDPB-advies verandert niets aan dat oordeel. Het abonnement zonder advertenties voldoet aan de Europese wetgeving.\" '}]"
      ]
     },
     "execution_count": 2,
     "metadata": {},
     "output_type": "execute_result"
    }
   ],
   "source": [
    "# Scrape latest articles from https://nos.nl\n",
    "# Outputs latest articles in 'articles_scrapped.json'\n",
    "webDataScrape()"
   ]
  },
  {
   "cell_type": "markdown",
   "metadata": {},
   "source": [
    "<font size=\"5\">\n",
    "    Step 2: Add to Master Article List\n",
    "</font>"
   ]
  },
  {
   "cell_type": "code",
   "execution_count": 8,
   "metadata": {},
   "outputs": [],
   "source": [
    "# Retrieve list of existing articles and convert into Article objects\n",
    "master_article_list = []\n",
    "try:\n",
    "    with open('master_article_list.json') as json_file:\n",
    "        master_article_data = json.load(json_file)\n",
    "        for article in master_article_data:\n",
    "            master_article_list.append(Article(article['ID'], article['url'], article['title'], article['date_time'], article['text']))\n",
    "except:\n",
    "    print(\"There is no existing Master Article list\")"
   ]
  },
  {
   "cell_type": "code",
   "execution_count": 9,
   "metadata": {},
   "outputs": [
    {
     "name": "stdout",
     "output_type": "stream",
     "text": [
      "[<Article.Article object at 0x000001622ADD1210>, <Article.Article object at 0x000001622C3F2090>]\n"
     ]
    }
   ],
   "source": [
    "# Retrieve list of scrapped articles and convert into Article objects\n",
    "scrapped_article_list = []\n",
    "try:\n",
    "    with open('articles_scrapped.json') as json_file:\n",
    "        scrapped_article_data = json.load(json_file)\n",
    "        for article in scrapped_article_data:\n",
    "            scrapped_article_list.append(Article(article['ID'], article['url'], article['title'], article['date_time'], article['text']))\n",
    "except:\n",
    "    print(\"There is no existing Scrapped Article list\")"
   ]
  },
  {
   "cell_type": "code",
   "execution_count": 17,
   "metadata": {},
   "outputs": [],
   "source": [
    "# See if newly scrapped articles exist already in master article list, if not then add them\n",
    "match_found=0\n",
    "for scrapped_article in scrapped_article_list:\n",
    "    for master_article in master_article_list:\n",
    "        if scrapped_article.ID == master_article.ID:\n",
    "            match_found=1\n",
    "            break\n",
    "    if match_found == 0:\n",
    "        master_article_list.append(scrapped_article)\n",
    "    elif match_found == 1:\n",
    "        match_found = 0"
   ]
  },
  {
   "cell_type": "code",
   "execution_count": 20,
   "metadata": {},
   "outputs": [],
   "source": [
    "# Outputs updated list into 'master_article_list.json'\n",
    "article_dict_list = [{\"ID\":article.ID, \"url\":article.url, \"title\":article.title, \"date_time\":article.date_time, \"text\":article.text} for article in master_article_list]\n",
    "json_string = json.dumps(article_dict_list)\n",
    "with open('master_article_list.json','w') as outfile:\n",
    "    outfile.write(json_string)"
   ]
  },
  {
   "cell_type": "code",
   "execution_count": 28,
   "metadata": {},
   "outputs": [
    {
     "name": "stdout",
     "output_type": "stream",
     "text": [
      "3\n"
     ]
    }
   ],
   "source": [
    "# Check length of article list\n",
    "master_article_list = []\n",
    "with open('master_article_list.json') as json_file:\n",
    "    master_article_data = json.load(json_file)\n",
    "    for article in master_article_data:\n",
    "        master_article_list.append(Article(article['ID'], article['url'], article['title'], article['date_time'], article['text']))\n",
    "print(len(master_article_list))"
   ]
  }
 ],
 "metadata": {
  "kernelspec": {
   "display_name": "Python 3",
   "language": "python",
   "name": "python3"
  },
  "language_info": {
   "codemirror_mode": {
    "name": "ipython",
    "version": 3
   },
   "file_extension": ".py",
   "mimetype": "text/x-python",
   "name": "python",
   "nbconvert_exporter": "python",
   "pygments_lexer": "ipython3",
   "version": "3.11.9"
  }
 },
 "nbformat": 4,
 "nbformat_minor": 2
}
